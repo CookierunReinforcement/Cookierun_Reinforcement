{
 "cells": [
  {
   "cell_type": "code",
   "execution_count": 1,
   "metadata": {},
   "outputs": [],
   "source": [
    "import pytesseract\n",
    "import cv2 \n",
    "import matplotlib.pyplot as plt\n",
    "import mss\n",
    "import numpy as np"
   ]
  },
  {
   "cell_type": "code",
   "execution_count": 2,
   "metadata": {},
   "outputs": [],
   "source": [
    "# Capture the image\n",
    "# For dual monitors case, set the value of monitor_number to main monitor = 1, sub monitor = 2\n",
    "def captureCookierunScore(x, y, width, height, monitor_number=2):\n",
    "    with mss.mss() as sct:\n",
    "        mon = sct.monitors[monitor_number]\n",
    "\n",
    "        # The screen part to capture\n",
    "        monitor = {\n",
    "            \"top\": mon[\"top\"] + x,  # 100px from the top\n",
    "            \"left\": mon[\"left\"] + y,  # 100px from the left\n",
    "            \"width\": width,\n",
    "            \"height\": height,\n",
    "            \"mon\": monitor_number,\n",
    "        }\n",
    "\n",
    "        # Grab the data\n",
    "        sct_img = sct.grab(monitor)\n",
    "\n",
    "        # Save to the picture file\n",
    "        output = \"ScoreImage/cookierun_score.png\".format(**monitor)\n",
    "        mss.tools.to_png(sct_img.rgb, sct_img.size, output=output)"
   ]
  },
  {
   "cell_type": "code",
   "execution_count": 3,
   "metadata": {},
   "outputs": [],
   "source": [
    "# translate str type to int type\n",
    "def translatStrToInt(text):\n",
    "    word = \"\"\n",
    "    for string in text:\n",
    "        if(string.isdigit()):\n",
    "            word = word + string\n",
    "    return int(word)"
   ]
  },
  {
   "cell_type": "code",
   "execution_count": 15,
   "metadata": {},
   "outputs": [],
   "source": [
    "# take screenshot (set based on cookirun score coordinate)\n",
    "x_coordinate = 270\n",
    "y_coordinate = 850\n",
    "capture_width = 800\n",
    "capture_height = 90\n",
    "\n",
    "captureCookierunScore(x_coordinate, y_coordinate, capture_width, capture_height, 2)"
   ]
  },
  {
   "cell_type": "code",
   "execution_count": 16,
   "metadata": {},
   "outputs": [],
   "source": [
    "# get rgb image\n",
    "path = 'ScoreImage/cookierun_score.png'\n",
    "image = cv2.imread(path)\n",
    "rgb_image = cv2.cvtColor(image, cv2.COLOR_BGR2RGB)\n",
    "\n"
   ]
  },
  {
   "cell_type": "code",
   "execution_count": 17,
   "metadata": {},
   "outputs": [
    {
     "data": {
      "text/plain": [
       "True"
      ]
     },
     "execution_count": 17,
     "metadata": {},
     "output_type": "execute_result"
    }
   ],
   "source": [
    "# Change to black/white image\n",
    "\n",
    "# Define the color you want to keep (white in this case)\n",
    "keep_color = np.array([255, 255, 255])\n",
    "\n",
    "# Create a mask for pixels that are not white\n",
    "non_white_mask = np.any(rgb_image != keep_color, axis=-1)\n",
    "\n",
    "# Set all non-white pixels to black\n",
    "rgb_image[non_white_mask] = [0, 0, 0]\n",
    "\n",
    "# Convert back to BGR if needed\n",
    "bw_image = cv2.cvtColor(rgb_image, cv2.COLOR_RGB2BGR)\n",
    "\n",
    "\n",
    "cv2.imwrite('ScoreImage/bw_image.png', bw_image)"
   ]
  },
  {
   "cell_type": "code",
   "execution_count": 18,
   "metadata": {},
   "outputs": [
    {
     "name": "stdout",
     "output_type": "stream",
     "text": [
      "\n"
     ]
    }
   ],
   "source": [
    "# use Tesseract to OCR the image\n",
    "text = pytesseract.image_to_string(bw_image, lang='eng')\n",
    "print(text)"
   ]
  },
  {
   "cell_type": "code",
   "execution_count": 8,
   "metadata": {},
   "outputs": [
    {
     "ename": "ValueError",
     "evalue": "invalid literal for int() with base 10: ''",
     "output_type": "error",
     "traceback": [
      "\u001b[1;31m---------------------------------------------------------------------------\u001b[0m",
      "\u001b[1;31mValueError\u001b[0m                                Traceback (most recent call last)",
      "\u001b[1;32mc:\\MyFiles\\DevFiles\\UNIST\\4.2\\Artificial_Intelligence\\Cookierun_Reinforcement\\GetScore.ipynb 셀 8\u001b[0m line \u001b[0;36m1\n\u001b[1;32m----> <a href='vscode-notebook-cell:/c%3A/MyFiles/DevFiles/UNIST/4.2/Artificial_Intelligence/Cookierun_Reinforcement/GetScore.ipynb#X10sZmlsZQ%3D%3D?line=0'>1</a>\u001b[0m result \u001b[39m=\u001b[39m translatStrToInt(text)\n\u001b[0;32m      <a href='vscode-notebook-cell:/c%3A/MyFiles/DevFiles/UNIST/4.2/Artificial_Intelligence/Cookierun_Reinforcement/GetScore.ipynb#X10sZmlsZQ%3D%3D?line=2'>3</a>\u001b[0m \u001b[39mprint\u001b[39m(result)\n\u001b[0;32m      <a href='vscode-notebook-cell:/c%3A/MyFiles/DevFiles/UNIST/4.2/Artificial_Intelligence/Cookierun_Reinforcement/GetScore.ipynb#X10sZmlsZQ%3D%3D?line=3'>4</a>\u001b[0m \u001b[39mprint\u001b[39m(\u001b[39mtype\u001b[39m(result))\n",
      "\u001b[1;32mc:\\MyFiles\\DevFiles\\UNIST\\4.2\\Artificial_Intelligence\\Cookierun_Reinforcement\\GetScore.ipynb 셀 8\u001b[0m line \u001b[0;36m7\n\u001b[0;32m      <a href='vscode-notebook-cell:/c%3A/MyFiles/DevFiles/UNIST/4.2/Artificial_Intelligence/Cookierun_Reinforcement/GetScore.ipynb#X10sZmlsZQ%3D%3D?line=4'>5</a>\u001b[0m     \u001b[39mif\u001b[39;00m(string\u001b[39m.\u001b[39misdigit()):\n\u001b[0;32m      <a href='vscode-notebook-cell:/c%3A/MyFiles/DevFiles/UNIST/4.2/Artificial_Intelligence/Cookierun_Reinforcement/GetScore.ipynb#X10sZmlsZQ%3D%3D?line=5'>6</a>\u001b[0m         word \u001b[39m=\u001b[39m word \u001b[39m+\u001b[39m string\n\u001b[1;32m----> <a href='vscode-notebook-cell:/c%3A/MyFiles/DevFiles/UNIST/4.2/Artificial_Intelligence/Cookierun_Reinforcement/GetScore.ipynb#X10sZmlsZQ%3D%3D?line=6'>7</a>\u001b[0m \u001b[39mreturn\u001b[39;00m \u001b[39mint\u001b[39;49m(word)\n",
      "\u001b[1;31mValueError\u001b[0m: invalid literal for int() with base 10: ''"
     ]
    }
   ],
   "source": [
    "result = translatStrToInt(text)\n",
    "\n",
    "print(result)\n",
    "print(type(result))"
   ]
  },
  {
   "cell_type": "code",
   "execution_count": null,
   "metadata": {},
   "outputs": [],
   "source": []
  }
 ],
 "metadata": {
  "kernelspec": {
   "display_name": "cookie_reinforce",
   "language": "python",
   "name": "python3"
  },
  "language_info": {
   "codemirror_mode": {
    "name": "ipython",
    "version": 3
   },
   "file_extension": ".py",
   "mimetype": "text/x-python",
   "name": "python",
   "nbconvert_exporter": "python",
   "pygments_lexer": "ipython3",
   "version": "3.11.5"
  }
 },
 "nbformat": 4,
 "nbformat_minor": 2
}
