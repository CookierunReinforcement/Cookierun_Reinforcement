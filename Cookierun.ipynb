{
 "cells": [
  {
   "cell_type": "markdown",
   "metadata": {
    "id": "SIcgNEyKjUpC"
   },
   "source": [
    "# 1. Install and Import Dependencies"
   ]
  },
  {
   "cell_type": "code",
   "execution_count": 2,
   "metadata": {
    "colab": {
     "base_uri": "https://localhost:8080/"
    },
    "id": "oRVKMlgqieUb",
    "outputId": "2e5005e7-3a17-4867-f4e1-7b7654629894",
    "scrolled": true
   },
   "outputs": [
    {
     "name": "stdout",
     "output_type": "stream",
     "text": [
      "Looking in indexes: https://download.pytorch.org/whl/cu118\n",
      "Requirement already satisfied: torch in c:\\users\\1567w\\anaconda3\\lib\\site-packages (2.1.0+cu118)\n",
      "Requirement already satisfied: torchvision in c:\\users\\1567w\\anaconda3\\lib\\site-packages (0.16.0+cu118)\n",
      "Requirement already satisfied: torchaudio in c:\\users\\1567w\\anaconda3\\lib\\site-packages (2.1.0+cu118)\n",
      "Requirement already satisfied: sympy in c:\\users\\1567w\\anaconda3\\lib\\site-packages (from torch) (1.11.1)\n",
      "Requirement already satisfied: jinja2 in c:\\users\\1567w\\anaconda3\\lib\\site-packages (from torch) (3.1.2)\n",
      "Requirement already satisfied: networkx in c:\\users\\1567w\\anaconda3\\lib\\site-packages (from torch) (2.8.4)\n",
      "Requirement already satisfied: typing-extensions in c:\\users\\1567w\\anaconda3\\lib\\site-packages (from torch) (4.4.0)\n",
      "Requirement already satisfied: fsspec in c:\\users\\1567w\\anaconda3\\lib\\site-packages (from torch) (2022.11.0)\n",
      "Requirement already satisfied: filelock in c:\\users\\1567w\\anaconda3\\lib\\site-packages (from torch) (3.9.0)\n",
      "Requirement already satisfied: requests in c:\\users\\1567w\\anaconda3\\lib\\site-packages (from torchvision) (2.28.1)\n",
      "Requirement already satisfied: pillow!=8.3.*,>=5.3.0 in c:\\users\\1567w\\anaconda3\\lib\\site-packages (from torchvision) (9.4.0)\n",
      "Requirement already satisfied: numpy in c:\\users\\1567w\\anaconda3\\lib\\site-packages (from torchvision) (1.23.5)\n",
      "Requirement already satisfied: MarkupSafe>=2.0 in c:\\users\\1567w\\anaconda3\\lib\\site-packages (from jinja2->torch) (2.1.1)\n",
      "Requirement already satisfied: charset-normalizer<3,>=2 in c:\\users\\1567w\\anaconda3\\lib\\site-packages (from requests->torchvision) (2.0.4)\n",
      "Requirement already satisfied: urllib3<1.27,>=1.21.1 in c:\\users\\1567w\\anaconda3\\lib\\site-packages (from requests->torchvision) (1.26.14)\n",
      "Requirement already satisfied: idna<4,>=2.5 in c:\\users\\1567w\\anaconda3\\lib\\site-packages (from requests->torchvision) (3.4)\n",
      "Requirement already satisfied: certifi>=2017.4.17 in c:\\users\\1567w\\anaconda3\\lib\\site-packages (from requests->torchvision) (2022.12.7)\n",
      "Requirement already satisfied: mpmath>=0.19 in c:\\users\\1567w\\anaconda3\\lib\\site-packages (from sympy->torch) (1.2.1)\n"
     ]
    },
    {
     "name": "stderr",
     "output_type": "stream",
     "text": [
      "WARNING: There was an error checking the latest version of pip.\n"
     ]
    }
   ],
   "source": [
    "!pip install torch torchvision torchaudio --index-url https://download.pytorch.org/whl/cu118"
   ]
  },
  {
   "cell_type": "code",
   "execution_count": 3,
   "metadata": {
    "colab": {
     "base_uri": "https://localhost:8080/"
    },
    "id": "w0cjmiHCi-xs",
    "outputId": "a4ee3f4f-5d57-4efe-ee2d-c698acaf2f9c"
   },
   "outputs": [
    {
     "name": "stdout",
     "output_type": "stream",
     "text": [
      "Requirement already satisfied: stable-baselines3[extra] in c:\\users\\1567w\\anaconda3\\lib\\site-packages (2.1.0)\n",
      "Requirement already satisfied: protobuf==3.20.* in c:\\users\\1567w\\anaconda3\\lib\\site-packages (3.20.3)\n",
      "Requirement already satisfied: cloudpickle in c:\\users\\1567w\\anaconda3\\lib\\site-packages (from stable-baselines3[extra]) (2.0.0)\n",
      "Requirement already satisfied: matplotlib in c:\\users\\1567w\\anaconda3\\lib\\site-packages (from stable-baselines3[extra]) (3.7.0)\n",
      "Requirement already satisfied: numpy>=1.20 in c:\\users\\1567w\\anaconda3\\lib\\site-packages (from stable-baselines3[extra]) (1.23.5)\n",
      "Requirement already satisfied: pandas in c:\\users\\1567w\\anaconda3\\lib\\site-packages (from stable-baselines3[extra]) (1.5.3)\n",
      "Requirement already satisfied: gymnasium<0.30,>=0.28.1 in c:\\users\\1567w\\anaconda3\\lib\\site-packages (from stable-baselines3[extra]) (0.29.1)\n",
      "Requirement already satisfied: torch>=1.13 in c:\\users\\1567w\\anaconda3\\lib\\site-packages (from stable-baselines3[extra]) (2.1.0+cu118)\n",
      "Requirement already satisfied: pygame in c:\\users\\1567w\\anaconda3\\lib\\site-packages (from stable-baselines3[extra]) (2.5.2)\n",
      "Requirement already satisfied: rich in c:\\users\\1567w\\anaconda3\\lib\\site-packages (from stable-baselines3[extra]) (13.6.0)\n",
      "Requirement already satisfied: tensorboard>=2.9.1 in c:\\users\\1567w\\anaconda3\\lib\\site-packages (from stable-baselines3[extra]) (2.15.0)\n",
      "Requirement already satisfied: psutil in c:\\users\\1567w\\anaconda3\\lib\\site-packages (from stable-baselines3[extra]) (5.9.0)\n",
      "Requirement already satisfied: autorom[accept-rom-license]~=0.6.1 in c:\\users\\1567w\\anaconda3\\lib\\site-packages (from stable-baselines3[extra]) (0.6.1)\n",
      "Requirement already satisfied: opencv-python in c:\\users\\1567w\\anaconda3\\lib\\site-packages (from stable-baselines3[extra]) (4.8.1.78)\n",
      "Requirement already satisfied: shimmy[atari]~=1.1.0 in c:\\users\\1567w\\anaconda3\\lib\\site-packages (from stable-baselines3[extra]) (1.1.0)\n",
      "Requirement already satisfied: pillow in c:\\users\\1567w\\anaconda3\\lib\\site-packages (from stable-baselines3[extra]) (9.4.0)\n",
      "Requirement already satisfied: tqdm in c:\\users\\1567w\\anaconda3\\lib\\site-packages (from stable-baselines3[extra]) (4.64.1)\n",
      "Requirement already satisfied: click in c:\\users\\1567w\\anaconda3\\lib\\site-packages (from autorom[accept-rom-license]~=0.6.1->stable-baselines3[extra]) (8.0.4)\n",
      "Requirement already satisfied: requests in c:\\users\\1567w\\anaconda3\\lib\\site-packages (from autorom[accept-rom-license]~=0.6.1->stable-baselines3[extra]) (2.28.1)\n",
      "Requirement already satisfied: AutoROM.accept-rom-license in c:\\users\\1567w\\anaconda3\\lib\\site-packages (from autorom[accept-rom-license]~=0.6.1->stable-baselines3[extra]) (0.6.1)\n",
      "Requirement already satisfied: typing-extensions>=4.3.0 in c:\\users\\1567w\\anaconda3\\lib\\site-packages (from gymnasium<0.30,>=0.28.1->stable-baselines3[extra]) (4.4.0)\n",
      "Requirement already satisfied: farama-notifications>=0.0.1 in c:\\users\\1567w\\anaconda3\\lib\\site-packages (from gymnasium<0.30,>=0.28.1->stable-baselines3[extra]) (0.0.4)\n",
      "Requirement already satisfied: ale-py~=0.8.1 in c:\\users\\1567w\\anaconda3\\lib\\site-packages (from shimmy[atari]~=1.1.0->stable-baselines3[extra]) (0.8.1)\n",
      "Requirement already satisfied: werkzeug>=1.0.1 in c:\\users\\1567w\\anaconda3\\lib\\site-packages (from tensorboard>=2.9.1->stable-baselines3[extra]) (2.2.2)\n",
      "Requirement already satisfied: google-auth-oauthlib<2,>=0.5 in c:\\users\\1567w\\anaconda3\\lib\\site-packages (from tensorboard>=2.9.1->stable-baselines3[extra]) (1.1.0)\n",
      "Requirement already satisfied: setuptools>=41.0.0 in c:\\users\\1567w\\anaconda3\\lib\\site-packages (from tensorboard>=2.9.1->stable-baselines3[extra]) (65.6.3)\n",
      "Requirement already satisfied: grpcio>=1.48.2 in c:\\users\\1567w\\anaconda3\\lib\\site-packages (from tensorboard>=2.9.1->stable-baselines3[extra]) (1.59.0)\n",
      "Requirement already satisfied: google-auth<3,>=1.6.3 in c:\\users\\1567w\\anaconda3\\lib\\site-packages (from tensorboard>=2.9.1->stable-baselines3[extra]) (2.23.3)\n",
      "Requirement already satisfied: absl-py>=0.4 in c:\\users\\1567w\\anaconda3\\lib\\site-packages (from tensorboard>=2.9.1->stable-baselines3[extra]) (2.0.0)\n",
      "Requirement already satisfied: tensorboard-data-server<0.8.0,>=0.7.0 in c:\\users\\1567w\\anaconda3\\lib\\site-packages (from tensorboard>=2.9.1->stable-baselines3[extra]) (0.7.2)\n",
      "Requirement already satisfied: markdown>=2.6.8 in c:\\users\\1567w\\anaconda3\\lib\\site-packages (from tensorboard>=2.9.1->stable-baselines3[extra]) (3.4.1)\n",
      "Requirement already satisfied: six>1.9 in c:\\users\\1567w\\anaconda3\\lib\\site-packages (from tensorboard>=2.9.1->stable-baselines3[extra]) (1.16.0)\n",
      "Requirement already satisfied: fsspec in c:\\users\\1567w\\anaconda3\\lib\\site-packages (from torch>=1.13->stable-baselines3[extra]) (2022.11.0)\n",
      "Requirement already satisfied: filelock in c:\\users\\1567w\\anaconda3\\lib\\site-packages (from torch>=1.13->stable-baselines3[extra]) (3.9.0)\n",
      "Requirement already satisfied: sympy in c:\\users\\1567w\\anaconda3\\lib\\site-packages (from torch>=1.13->stable-baselines3[extra]) (1.11.1)\n",
      "Requirement already satisfied: networkx in c:\\users\\1567w\\anaconda3\\lib\\site-packages (from torch>=1.13->stable-baselines3[extra]) (2.8.4)\n",
      "Requirement already satisfied: jinja2 in c:\\users\\1567w\\anaconda3\\lib\\site-packages (from torch>=1.13->stable-baselines3[extra]) (3.1.2)\n",
      "Requirement already satisfied: pyparsing>=2.3.1 in c:\\users\\1567w\\anaconda3\\lib\\site-packages (from matplotlib->stable-baselines3[extra]) (3.0.9)\n",
      "Requirement already satisfied: fonttools>=4.22.0 in c:\\users\\1567w\\anaconda3\\lib\\site-packages (from matplotlib->stable-baselines3[extra]) (4.25.0)\n",
      "Requirement already satisfied: python-dateutil>=2.7 in c:\\users\\1567w\\anaconda3\\lib\\site-packages (from matplotlib->stable-baselines3[extra]) (2.8.2)\n",
      "Requirement already satisfied: cycler>=0.10 in c:\\users\\1567w\\anaconda3\\lib\\site-packages (from matplotlib->stable-baselines3[extra]) (0.11.0)\n",
      "Requirement already satisfied: contourpy>=1.0.1 in c:\\users\\1567w\\anaconda3\\lib\\site-packages (from matplotlib->stable-baselines3[extra]) (1.0.5)\n",
      "Requirement already satisfied: packaging>=20.0 in c:\\users\\1567w\\anaconda3\\lib\\site-packages (from matplotlib->stable-baselines3[extra]) (22.0)\n",
      "Requirement already satisfied: kiwisolver>=1.0.1 in c:\\users\\1567w\\anaconda3\\lib\\site-packages (from matplotlib->stable-baselines3[extra]) (1.4.4)\n",
      "Requirement already satisfied: pytz>=2020.1 in c:\\users\\1567w\\anaconda3\\lib\\site-packages (from pandas->stable-baselines3[extra]) (2022.7)\n",
      "Requirement already satisfied: pygments<3.0.0,>=2.13.0 in c:\\users\\1567w\\anaconda3\\lib\\site-packages (from rich->stable-baselines3[extra]) (2.16.1)\n",
      "Requirement already satisfied: markdown-it-py>=2.2.0 in c:\\users\\1567w\\anaconda3\\lib\\site-packages (from rich->stable-baselines3[extra]) (3.0.0)\n",
      "Requirement already satisfied: colorama in c:\\users\\1567w\\anaconda3\\lib\\site-packages (from tqdm->stable-baselines3[extra]) (0.4.6)\n",
      "Requirement already satisfied: importlib-resources in c:\\users\\1567w\\anaconda3\\lib\\site-packages (from ale-py~=0.8.1->shimmy[atari]~=1.1.0->stable-baselines3[extra]) (6.1.0)\n",
      "Requirement already satisfied: cachetools<6.0,>=2.0.0 in c:\\users\\1567w\\anaconda3\\lib\\site-packages (from google-auth<3,>=1.6.3->tensorboard>=2.9.1->stable-baselines3[extra]) (5.3.2)\n",
      "Requirement already satisfied: pyasn1-modules>=0.2.1 in c:\\users\\1567w\\anaconda3\\lib\\site-packages (from google-auth<3,>=1.6.3->tensorboard>=2.9.1->stable-baselines3[extra]) (0.2.8)\n",
      "Requirement already satisfied: rsa<5,>=3.1.4 in c:\\users\\1567w\\anaconda3\\lib\\site-packages (from google-auth<3,>=1.6.3->tensorboard>=2.9.1->stable-baselines3[extra]) (4.9)\n",
      "Requirement already satisfied: requests-oauthlib>=0.7.0 in c:\\users\\1567w\\anaconda3\\lib\\site-packages (from google-auth-oauthlib<2,>=0.5->tensorboard>=2.9.1->stable-baselines3[extra]) (1.3.1)\n",
      "Requirement already satisfied: mdurl~=0.1 in c:\\users\\1567w\\anaconda3\\lib\\site-packages (from markdown-it-py>=2.2.0->rich->stable-baselines3[extra]) (0.1.2)\n",
      "Requirement already satisfied: idna<4,>=2.5 in c:\\users\\1567w\\anaconda3\\lib\\site-packages (from requests->autorom[accept-rom-license]~=0.6.1->stable-baselines3[extra]) (3.4)\n",
      "Requirement already satisfied: urllib3<1.27,>=1.21.1 in c:\\users\\1567w\\anaconda3\\lib\\site-packages (from requests->autorom[accept-rom-license]~=0.6.1->stable-baselines3[extra]) (1.26.14)\n",
      "Requirement already satisfied: charset-normalizer<3,>=2 in c:\\users\\1567w\\anaconda3\\lib\\site-packages (from requests->autorom[accept-rom-license]~=0.6.1->stable-baselines3[extra]) (2.0.4)\n",
      "Requirement already satisfied: certifi>=2017.4.17 in c:\\users\\1567w\\anaconda3\\lib\\site-packages (from requests->autorom[accept-rom-license]~=0.6.1->stable-baselines3[extra]) (2022.12.7)\n",
      "Requirement already satisfied: MarkupSafe>=2.1.1 in c:\\users\\1567w\\anaconda3\\lib\\site-packages (from werkzeug>=1.0.1->tensorboard>=2.9.1->stable-baselines3[extra]) (2.1.1)\n",
      "Requirement already satisfied: mpmath>=0.19 in c:\\users\\1567w\\anaconda3\\lib\\site-packages (from sympy->torch>=1.13->stable-baselines3[extra]) (1.2.1)\n",
      "Requirement already satisfied: pyasn1<0.5.0,>=0.4.6 in c:\\users\\1567w\\anaconda3\\lib\\site-packages (from pyasn1-modules>=0.2.1->google-auth<3,>=1.6.3->tensorboard>=2.9.1->stable-baselines3[extra]) (0.4.8)\n",
      "Requirement already satisfied: oauthlib>=3.0.0 in c:\\users\\1567w\\anaconda3\\lib\\site-packages (from requests-oauthlib>=0.7.0->google-auth-oauthlib<2,>=0.5->tensorboard>=2.9.1->stable-baselines3[extra]) (3.2.2)\n"
     ]
    }
   ],
   "source": [
    "!pip install stable-baselines3[extra] protobuf==3.20.*"
   ]
  },
  {
   "cell_type": "code",
   "execution_count": 4,
   "metadata": {
    "colab": {
     "base_uri": "https://localhost:8080/"
    },
    "id": "KkRiCeM0kzjk",
    "outputId": "728087ea-ceb2-48d1-8556-6b889eeafe0c",
    "scrolled": true
   },
   "outputs": [
    {
     "name": "stdout",
     "output_type": "stream",
     "text": [
      "Requirement already satisfied: mss in c:\\users\\1567w\\anaconda3\\lib\\site-packages (9.0.1)\n",
      "Requirement already satisfied: pyautogui in c:\\users\\1567w\\anaconda3\\lib\\site-packages (0.9.54)\n",
      "Requirement already satisfied: pyscreeze>=0.1.21 in c:\\users\\1567w\\anaconda3\\lib\\site-packages (from pyautogui) (0.1.29)\n",
      "Requirement already satisfied: mouseinfo in c:\\users\\1567w\\anaconda3\\lib\\site-packages (from pyautogui) (0.1.3)\n",
      "Requirement already satisfied: pytweening>=1.0.4 in c:\\users\\1567w\\anaconda3\\lib\\site-packages (from pyautogui) (1.0.7)\n",
      "Requirement already satisfied: pymsgbox in c:\\users\\1567w\\anaconda3\\lib\\site-packages (from pyautogui) (1.0.9)\n",
      "Requirement already satisfied: pygetwindow>=0.0.5 in c:\\users\\1567w\\anaconda3\\lib\\site-packages (from pyautogui) (0.0.9)\n",
      "Requirement already satisfied: pyrect in c:\\users\\1567w\\anaconda3\\lib\\site-packages (from pygetwindow>=0.0.5->pyautogui) (0.2.0)\n",
      "Requirement already satisfied: Pillow>=9.2.0 in c:\\users\\1567w\\anaconda3\\lib\\site-packages (from pyscreeze>=0.1.21->pyautogui) (9.4.0)\n",
      "Requirement already satisfied: pyscreenshot in c:\\users\\1567w\\anaconda3\\lib\\site-packages (from pyscreeze>=0.1.21->pyautogui) (3.1)\n",
      "Requirement already satisfied: pyperclip in c:\\users\\1567w\\anaconda3\\lib\\site-packages (from mouseinfo->pyautogui) (1.8.2)\n",
      "Requirement already satisfied: entrypoint2 in c:\\users\\1567w\\anaconda3\\lib\\site-packages (from pyscreenshot->pyscreeze>=0.1.21->pyautogui) (1.1)\n",
      "Requirement already satisfied: EasyProcess in c:\\users\\1567w\\anaconda3\\lib\\site-packages (from pyscreenshot->pyscreeze>=0.1.21->pyautogui) (1.1)\n"
     ]
    }
   ],
   "source": [
    "!pip install mss pyautogui"
   ]
  },
  {
   "cell_type": "code",
   "execution_count": 5,
   "metadata": {},
   "outputs": [
    {
     "name": "stdout",
     "output_type": "stream",
     "text": [
      "Requirement already satisfied: pytesseract in c:\\users\\1567w\\anaconda3\\lib\\site-packages (0.3.10)\n",
      "Requirement already satisfied: Pillow>=8.0.0 in c:\\users\\1567w\\anaconda3\\lib\\site-packages (from pytesseract) (9.4.0)\n",
      "Requirement already satisfied: packaging>=21.3 in c:\\users\\1567w\\anaconda3\\lib\\site-packages (from pytesseract) (22.0)\n"
     ]
    }
   ],
   "source": [
    "!pip install pytesseract\n",
    "import pytesseract\n",
    "pytesseract.pytesseract.tesseract_cmd = 'C:/Program Files/Tesseract-OCR/tesseract.exe'"
   ]
  },
  {
   "cell_type": "code",
   "execution_count": 6,
   "metadata": {},
   "outputs": [
    {
     "name": "stdout",
     "output_type": "stream",
     "text": [
      "Requirement already satisfied: gymnasium in c:\\users\\1567w\\anaconda3\\lib\\site-packages (0.29.1)\n",
      "Requirement already satisfied: farama-notifications>=0.0.1 in c:\\users\\1567w\\anaconda3\\lib\\site-packages (from gymnasium) (0.0.4)\n",
      "Requirement already satisfied: numpy>=1.21.0 in c:\\users\\1567w\\anaconda3\\lib\\site-packages (from gymnasium) (1.23.5)\n",
      "Requirement already satisfied: cloudpickle>=1.2.0 in c:\\users\\1567w\\anaconda3\\lib\\site-packages (from gymnasium) (2.0.0)\n",
      "Requirement already satisfied: typing-extensions>=4.3.0 in c:\\users\\1567w\\anaconda3\\lib\\site-packages (from gymnasium) (4.4.0)\n"
     ]
    }
   ],
   "source": [
    "!pip install gymnasium"
   ]
  },
  {
   "cell_type": "code",
   "execution_count": 7,
   "metadata": {},
   "outputs": [
    {
     "name": "stdout",
     "output_type": "stream",
     "text": [
      "Requirement already satisfied: pillow in c:\\users\\1567w\\anaconda3\\lib\\site-packages (9.4.0)\n"
     ]
    }
   ],
   "source": [
    "!pip install pillow"
   ]
  },
  {
   "cell_type": "code",
   "execution_count": 104,
   "metadata": {
    "colab": {
     "base_uri": "https://localhost:8080/",
     "height": 406
    },
    "id": "ehDfkyfYlNzZ",
    "outputId": "f6266884-57e0-40d7-d2c5-71a78d4e97fd"
   },
   "outputs": [],
   "source": [
    "# MSS for screen capture\n",
    "import mss\n",
    "# Sending commands\n",
    "import pyautogui\n",
    "# Opencv for frame processing\n",
    "import cv2\n",
    "# Transformational framework\n",
    "import numpy as np\n",
    "# OCR for game over extraction\n",
    "import pytesseract\n",
    "from PIL import Image\n",
    "# Visualize captured frames\n",
    "from matplotlib import pyplot as plt\n",
    "#Bring in time for pauses\n",
    "import time\n",
    "# Environment components\n",
    "from gymnasium import Env\n",
    "from gymnasium.spaces import Box, Discrete\n"
   ]
  },
  {
   "cell_type": "markdown",
   "metadata": {
    "id": "BIJUNmn-jsax"
   },
   "source": [
    "# 2. Build the Environment"
   ]
  },
  {
   "cell_type": "markdown",
   "metadata": {
    "id": "_KKUTvYoj3qq"
   },
   "source": [
    "## 2.1 Create Environment"
   ]
  },
  {
   "cell_type": "code",
   "execution_count": 192,
   "metadata": {
    "id": "y0c6_-eNpSWT"
   },
   "outputs": [],
   "source": [
    "class CookieRun(Env):\n",
    "  #Setup the environment action and observation shapes\n",
    "  def __init__(self):\n",
    "    super().__init__()\n",
    "    self.observation_space = Box(low=0, high=255, shape=(1,90,120), dtype=np.uint8)\n",
    "    self.action_space = Discrete(3)\n",
    "\n",
    "    self.cap = mss.mss()\n",
    "    # game window\n",
    "    self.game_location = {'top':0, 'left':0, 'width':1320, 'height':1080}\n",
    "    # gameover window\n",
    "    self.done_location = {'top':260, 'left':780, 'width':337, 'height':344}\n",
    "    file = cv2.imread('./done.png')\n",
    "    self.img = cv2.cvtColor(file, cv2.COLOR_BGR2HSV)\n",
    "    self.img_hist = cv2.calcHist([self.img], [0,1], None, [180,256], [0,180,0, 256])\n",
    "    cv2.normalize(self.img_hist, self.img_hist, 0, 1, cv2.NORM_MINMAX)\n",
    "    # reset x window\n",
    "    self.x_location = {'top':192, 'left':1393, 'width':84, 'height':88}\n",
    "    file = cv2.imread('./close.png')\n",
    "    self.x_img = cv2.cvtColor(file, cv2.COLOR_BGR2HSV)\n",
    "    self.x_img_hist = cv2.calcHist([self.x_img], [0,1], None, [180,256], [0,180,0, 256])\n",
    "    cv2.normalize(self.x_img_hist, self.x_img_hist, 0, 1, cv2.NORM_MINMAX)\n",
    "    # score window\n",
    "    self.score_location = {'top':160, 'left':760, 'width':350, 'height':64}\n",
    "    # health window\n",
    "    self.health_location = {'top' : 88, 'left':509, 'width':1188, 'height':10}\n",
    "    #Sliding parameter\n",
    "    self.sliding = False\n",
    "    #Reward parameter\n",
    "    self.pre_health = 1187\n",
    "    self.pre_score = 0\n",
    "    self.invincible_time = 0\n",
    "\n",
    "  # What is called to do, something in the game\n",
    "  def step(self, action):\n",
    "    #Action key - 0 : Idle / 1 : jump / 2 : slide\n",
    "    action_map = {\n",
    "        0:'idle',\n",
    "        1:'jump',\n",
    "        2:'slide'\n",
    "    }\n",
    "    if action == 1:\n",
    "        if not(self.sliding):\n",
    "            pyautogui.click(x=206, y=869)\n",
    "    if action == 2:\n",
    "        if self.sliding:\n",
    "            pyautogui.mouseDown(x=1625, y=889)\n",
    "        else:\n",
    "            pyautogui.mouseUp(x=1625, y=889)\n",
    "        self.sliding = not(self.sliding)\n",
    "\n",
    "    #Checking whether game is done\n",
    "    done, done_cap = self.get_done()\n",
    "    #Get the next observation\n",
    "    new_observation = self.get_observation()\n",
    "    \n",
    "    #Set health_reward\n",
    "    current_health = np.array(env.cap.grab(env.health_location))\n",
    "    c = np.arange(0,1187,1)\n",
    "    cnt = 0\n",
    "    for a in c:\n",
    "        if current_health[5][a][2] > 200:\n",
    "            cnt += 1\n",
    "    reward_life = 0\n",
    "    if cnt - self.pre_health <= -30:\n",
    "        reward_life = -30\n",
    "        self.invincible_time = 5\n",
    "    elif self.invincible_time >0:\n",
    "        reward_life = 0\n",
    "        self.invincible_time = self.invincible_time - 1\n",
    "    else:\n",
    "        reward_life = 10\n",
    "    if cnt != 0:\n",
    "        self.pre_health = cnt\n",
    "    #Set score_reward\n",
    "    score = self.captureCookierunScore(160,760,350,64,1)\n",
    "    reward_score = (score - self.pre_score)/100000\n",
    "        \n",
    "    reward = reward_life + reward_score\n",
    "        \n",
    "    info = {'arg1':1}\n",
    "\n",
    "    return new_observation, reward, done, False, info\n",
    "\n",
    "  # Capture the image\n",
    "  # For dual monitors case, set the value of monitor_number to main monitor = 1, sub monitor = 2\n",
    "  def captureCookierunScore(self, x, y, width, height, monitor_number=1):\n",
    "    with mss.mss() as sct:\n",
    "        mon = sct.monitors[monitor_number]\n",
    "\n",
    "        # The screen part to capture\n",
    "        monitor = {\n",
    "            \"top\": mon[\"top\"] + x,  # 100px from the top\n",
    "            \"left\": mon[\"left\"] + y,  # 100px from the left\n",
    "            \"width\": width,\n",
    "            \"height\": height,\n",
    "            \"mon\": monitor_number,\n",
    "        }\n",
    "        output = \"ScoreImage/cookierun_score.png\".format(**monitor)\n",
    "\n",
    "        # Grab the data\n",
    "        sct_img = np.array(sct.grab(monitor))\n",
    "        rgb_image = cv2.cvtColor(sct_img, cv2.COLOR_BGR2RGB)\n",
    "        # Change to black/white image\n",
    "\n",
    "        # Define the color you want to keep (white in this case)\n",
    "        keep_color = np.array([255, 255, 255])\n",
    "\n",
    "        # Create a mask for pixels that are not white\n",
    "        non_white_mask = np.any(rgb_image != keep_color, axis=-1)\n",
    "\n",
    "        # Set all non-white pixels to black\n",
    "        rgb_image[non_white_mask] = [0, 0, 0]\n",
    "\n",
    "        # Convert back to BGR if needed\n",
    "        bw_image = cv2.cvtColor(rgb_image, cv2.COLOR_RGB2BGR)\n",
    "        \n",
    "        text = pytesseract.image_to_string(bw_image, lang='eng')\n",
    "        \n",
    "        word = \"\"\n",
    "        for string in text:\n",
    "            if(string.isdigit()):\n",
    "                word = word + string\n",
    "        if word == \"\":\n",
    "            return 0\n",
    "        else:\n",
    "            return int(word)\n",
    "        \n",
    "  # Restart the game\n",
    "  def reset(self, seed=None):\n",
    "    time.sleep(15)\n",
    "    pyautogui.click(x=908, y=936)\n",
    "    time.sleep(1)\n",
    "    pyautogui.click(x=908, y=936)\n",
    "    time.sleep(6)\n",
    "    pyautogui.click(x=1044, y=866)\n",
    "    time.sleep(3)\n",
    "    pyautogui.click(x=1044, y=866)\n",
    "    time.sleep(1)\n",
    "    x_cap = np.array(self.cap.grab(self.x_location))\n",
    "    x_cap = cv2.cvtColor(x_cap, cv2.COLOR_BGR2HSV)\n",
    "    x_hist = cv2.calcHist([x_cap], [0,1], None, [180,256], [0,180,0, 256])\n",
    "    cv2.normalize(x_hist, x_hist, 0, 1, cv2.NORM_MINMAX)\n",
    "    ret = cv2.compareHist(self.x_img_hist, x_hist, cv2.HISTCMP_CORREL)\n",
    "    if ret > 0.9:\n",
    "        pyautogui.click(x=1393, y=192)\n",
    "        time.sleep(6)\n",
    "    pyautogui.click(x=1534, y=900)\n",
    "    time.sleep(1)\n",
    "    pyautogui.click(x=1170, y=693)\n",
    "    time.sleep(4)\n",
    "    info = {'arg1':0}\n",
    "    return self.get_observation(), info\n",
    "\n",
    "  # Get the part of the obeservation of the game that we want\n",
    "  def get_observation(self):\n",
    "    # Get screen capture of game\n",
    "    raw = np.array(self.cap.grab(self.game_location))[:,:,:3]\n",
    "    #Grayscale\n",
    "    gray = cv2.cvtColor(raw, cv2.COLOR_BGR2GRAY)\n",
    "    # resize\n",
    "    resize = cv2.resize(gray, (120,90))\n",
    "    # Add channels first\n",
    "    channel = np.reshape(resize, (1,90,120))\n",
    "    return channel\n",
    "\n",
    "  # Get the gameover state - Use opencv2 to compare image\n",
    "  def get_done(self):\n",
    "    done_cap = np.array(self.cap.grab(self.done_location))\n",
    "    done_cap = cv2.cvtColor(done_cap, cv2.COLOR_BGR2HSV)\n",
    "    done_hist = cv2.calcHist([done_cap], [0,1], None, [180,256], [0,180,0, 256])\n",
    "    cv2.normalize(done_hist, done_hist, 0, 1, cv2.NORM_MINMAX)\n",
    "    done = False\n",
    "    ret = cv2.compareHist(self.img_hist, done_hist, cv2.HISTCMP_CORREL)\n",
    "    if ret > 0.9:\n",
    "        done = True\n",
    "        self.pre_reward = 1187\n",
    "    return done, done_cap"
   ]
  },
  {
   "cell_type": "code",
   "execution_count": 164,
   "metadata": {
    "colab": {
     "base_uri": "https://localhost:8080/",
     "height": 200
    },
    "id": "kfUWLH1X6qNE",
    "outputId": "d2127cd9-2f02-44f1-9b92-e6d75edcf9ab"
   },
   "outputs": [
    {
     "name": "stdout",
     "output_type": "stream",
     "text": [
      "576 266\n"
     ]
    }
   ],
   "source": [
    "x, y = pyautogui.position()\n",
    "print(x, y)"
   ]
  },
  {
   "cell_type": "markdown",
   "metadata": {
    "id": "nMjciLBaj8A-"
   },
   "source": [
    "## 2.2 Test Environment"
   ]
  },
  {
   "cell_type": "code",
   "execution_count": 165,
   "metadata": {},
   "outputs": [],
   "source": [
    "env= CookieRun()"
   ]
  },
  {
   "cell_type": "code",
   "execution_count": 166,
   "metadata": {},
   "outputs": [
    {
     "name": "stdout",
     "output_type": "stream",
     "text": [
      "False\n"
     ]
    },
    {
     "data": {
      "text/plain": [
       "<matplotlib.image.AxesImage at 0x241c9fffe50>"
      ]
     },
     "execution_count": 166,
     "metadata": {},
     "output_type": "execute_result"
    },
    {
     "data": {
      "image/png": "[encoded data removed]",
      "text/plain": [
       "<Figure size 640x480 with 1 Axes>"
      ]
     },
     "metadata": {},
     "output_type": "display_data"
    }
   ],
   "source": [
    "obs = env.get_observation()\n",
    "done, done_cap = env.get_done()\n",
    "print(done)\n",
    "plt.imshow(done_cap)"
   ]
  },
  {
   "cell_type": "code",
   "execution_count": 167,
   "metadata": {},
   "outputs": [
    {
     "data": {
      "text/plain": [
       "<matplotlib.image.AxesImage at 0x241ca01d900>"
      ]
     },
     "execution_count": 167,
     "metadata": {},
     "output_type": "execute_result"
    },
    {
     "data": {
      "image/png": "[encoded data removed]",
      "text/plain": [
       "<Figure size 640x480 with 1 Axes>"
      ]
     },
     "metadata": {},
     "output_type": "display_data"
    }
   ],
   "source": [
    "plt.imshow(obs[0])"
   ]
  },
  {
   "cell_type": "code",
   "execution_count": 168,
   "metadata": {},
   "outputs": [
    {
     "ename": "ValueError",
     "evalue": "invalid literal for int() with base 10: ''",
     "output_type": "error",
     "traceback": [
      "\u001b[1;31m---------------------------------------------------------------------------\u001b[0m",
      "\u001b[1;31mValueError\u001b[0m                                Traceback (most recent call last)",
      "Cell \u001b[1;32mIn[168], line 1\u001b[0m\n\u001b[1;32m----> 1\u001b[0m obs,reward,_,_,_ \u001b[38;5;241m=\u001b[39m \u001b[43menv\u001b[49m\u001b[38;5;241;43m.\u001b[39;49m\u001b[43mstep\u001b[49m\u001b[43m(\u001b[49m\u001b[38;5;241;43m1\u001b[39;49m\u001b[43m)\u001b[49m\n\u001b[0;32m      2\u001b[0m \u001b[38;5;28mprint\u001b[39m(reward)\n",
      "Cell \u001b[1;32mIn[163], line 76\u001b[0m, in \u001b[0;36mCookieRun.step\u001b[1;34m(self, action)\u001b[0m\n\u001b[0;32m     74\u001b[0m     \u001b[38;5;28mself\u001b[39m\u001b[38;5;241m.\u001b[39mpre_health \u001b[38;5;241m=\u001b[39m cnt\n\u001b[0;32m     75\u001b[0m \u001b[38;5;66;03m#Set score_reward\u001b[39;00m\n\u001b[1;32m---> 76\u001b[0m score \u001b[38;5;241m=\u001b[39m \u001b[38;5;28;43mself\u001b[39;49m\u001b[38;5;241;43m.\u001b[39;49m\u001b[43mcaptureCookierunScore\u001b[49m\u001b[43m(\u001b[49m\u001b[38;5;241;43m160\u001b[39;49m\u001b[43m,\u001b[49m\u001b[38;5;241;43m760\u001b[39;49m\u001b[43m,\u001b[49m\u001b[38;5;241;43m350\u001b[39;49m\u001b[43m,\u001b[49m\u001b[38;5;241;43m64\u001b[39;49m\u001b[43m,\u001b[49m\u001b[38;5;241;43m1\u001b[39;49m\u001b[43m)\u001b[49m\n\u001b[0;32m     77\u001b[0m reward_score \u001b[38;5;241m=\u001b[39m (score \u001b[38;5;241m-\u001b[39m \u001b[38;5;28mself\u001b[39m\u001b[38;5;241m.\u001b[39mpre_score)\u001b[38;5;241m/\u001b[39m\u001b[38;5;241m100000\u001b[39m\n\u001b[0;32m     79\u001b[0m reward \u001b[38;5;241m=\u001b[39m reward_life \u001b[38;5;241m+\u001b[39m reward_score\n",
      "Cell \u001b[1;32mIn[163], line 124\u001b[0m, in \u001b[0;36mCookieRun.captureCookierunScore\u001b[1;34m(self, x, y, width, height, monitor_number)\u001b[0m\n\u001b[0;32m    122\u001b[0m     \u001b[38;5;28;01mif\u001b[39;00m(string\u001b[38;5;241m.\u001b[39misdigit()):\n\u001b[0;32m    123\u001b[0m         word \u001b[38;5;241m=\u001b[39m word \u001b[38;5;241m+\u001b[39m string\n\u001b[1;32m--> 124\u001b[0m \u001b[38;5;28;01mreturn\u001b[39;00m \u001b[38;5;28;43mint\u001b[39;49m\u001b[43m(\u001b[49m\u001b[43mword\u001b[49m\u001b[43m)\u001b[49m\n",
      "\u001b[1;31mValueError\u001b[0m: invalid literal for int() with base 10: ''"
     ]
    }
   ],
   "source": [
    "obs,reward,_,_,_ = env.step(1)\n",
    "print(reward)"
   ]
  },
  {
   "cell_type": "code",
   "execution_count": 142,
   "metadata": {},
   "outputs": [
    {
     "ename": "KeyboardInterrupt",
     "evalue": "",
     "output_type": "error",
     "traceback": [
      "\u001b[1;31m---------------------------------------------------------------------------\u001b[0m",
      "\u001b[1;31mKeyboardInterrupt\u001b[0m                         Traceback (most recent call last)",
      "Cell \u001b[1;32mIn[142], line 1\u001b[0m\n\u001b[1;32m----> 1\u001b[0m \u001b[43menv\u001b[49m\u001b[38;5;241;43m.\u001b[39;49m\u001b[43mreset\u001b[49m\u001b[43m(\u001b[49m\u001b[43m)\u001b[49m\n\u001b[0;32m      2\u001b[0m obs,_,_,_,_ \u001b[38;5;241m=\u001b[39m env\u001b[38;5;241m.\u001b[39mstep(\u001b[38;5;241m1\u001b[39m)\n\u001b[0;32m      3\u001b[0m plt\u001b[38;5;241m.\u001b[39mimshow(cv2\u001b[38;5;241m.\u001b[39mcvtColor(obs[\u001b[38;5;241m0\u001b[39m], cv2\u001b[38;5;241m.\u001b[39mCOLOR_GRAY2BGR))\n",
      "Cell \u001b[1;32mIn[136], line 129\u001b[0m, in \u001b[0;36mCookieRun.reset\u001b[1;34m(self, seed)\u001b[0m\n\u001b[0;32m    128\u001b[0m \u001b[38;5;28;01mdef\u001b[39;00m \u001b[38;5;21mreset\u001b[39m(\u001b[38;5;28mself\u001b[39m, seed\u001b[38;5;241m=\u001b[39m\u001b[38;5;28;01mNone\u001b[39;00m):\n\u001b[1;32m--> 129\u001b[0m   \u001b[43mtime\u001b[49m\u001b[38;5;241;43m.\u001b[39;49m\u001b[43msleep\u001b[49m\u001b[43m(\u001b[49m\u001b[38;5;241;43m15\u001b[39;49m\u001b[43m)\u001b[49m\n\u001b[0;32m    130\u001b[0m   pyautogui\u001b[38;5;241m.\u001b[39mclick(x\u001b[38;5;241m=\u001b[39m\u001b[38;5;241m908\u001b[39m, y\u001b[38;5;241m=\u001b[39m\u001b[38;5;241m936\u001b[39m)\n\u001b[0;32m    131\u001b[0m   time\u001b[38;5;241m.\u001b[39msleep(\u001b[38;5;241m1\u001b[39m)\n",
      "\u001b[1;31mKeyboardInterrupt\u001b[0m: "
     ]
    }
   ],
   "source": [
    "env.reset()\n",
    "obs,_,_,_,_ = env.step(1)\n",
    "plt.imshow(cv2.cvtColor(obs[0], cv2.COLOR_GRAY2BGR))"
   ]
  },
  {
   "cell_type": "code",
   "execution_count": null,
   "metadata": {},
   "outputs": [],
   "source": [
    "obs,_,_,_,_ = env.step(0)\n",
    "plt.imshow(obs[0])"
   ]
  },
  {
   "cell_type": "code",
   "execution_count": 15,
   "metadata": {},
   "outputs": [
    {
     "name": "stdout",
     "output_type": "stream",
     "text": [
      "1187\n"
     ]
    },
    {
     "data": {
      "image/png": "[encoded data removed]",
      "text/plain": [
       "<Figure size 640x480 with 1 Axes>"
      ]
     },
     "metadata": {},
     "output_type": "display_data"
    }
   ],
   "source": [
    "current_health = np.array(env.cap.grab(env.health_location))\n",
    "plt.imshow(current_health)\n",
    "c = np.arange(0,1187,1)\n",
    "cnt = 0\n",
    "for a in c:\n",
    "    if current_health[5][a][2] < 200:\n",
    "        cnt += 1\n",
    "print(cnt)"
   ]
  },
  {
   "cell_type": "markdown",
   "metadata": {
    "id": "QnaaZ2Qzjx_V"
   },
   "source": [
    "# 3. Train the Model"
   ]
  },
  {
   "cell_type": "markdown",
   "metadata": {
    "id": "zhySY5J0j_W_"
   },
   "source": [
    "## 3.1 Create Callback"
   ]
  },
  {
   "cell_type": "code",
   "execution_count": 179,
   "metadata": {
    "colab": {
     "base_uri": "https://localhost:8080/",
     "height": 400
    },
    "id": "7fgCPiYBpFYJ",
    "outputId": "a194b2f3-7df7-4008-e2ad-5bd89b5e2366"
   },
   "outputs": [],
   "source": [
    "# Import os for file path management\n",
    "import os\n",
    "# Import Base Callback for saving models\n",
    "from stable_baselines3.common.callbacks import BaseCallback\n",
    "# Check Environment\n",
    "from stable_baselines3.common import env_checker"
   ]
  },
  {
   "cell_type": "code",
   "execution_count": 170,
   "metadata": {
    "id": "NA1Xws96mi9h"
   },
   "outputs": [
    {
     "ename": "ValueError",
     "evalue": "invalid literal for int() with base 10: ''",
     "output_type": "error",
     "traceback": [
      "\u001b[1;31m---------------------------------------------------------------------------\u001b[0m",
      "\u001b[1;31mValueError\u001b[0m                                Traceback (most recent call last)",
      "Cell \u001b[1;32mIn[170], line 1\u001b[0m\n\u001b[1;32m----> 1\u001b[0m \u001b[43menv_checker\u001b[49m\u001b[38;5;241;43m.\u001b[39;49m\u001b[43mcheck_env\u001b[49m\u001b[43m(\u001b[49m\u001b[43menv\u001b[49m\u001b[43m)\u001b[49m\n",
      "File \u001b[1;32m~\\anaconda3\\lib\\site-packages\\stable_baselines3\\common\\env_checker.py:444\u001b[0m, in \u001b[0;36mcheck_env\u001b[1;34m(env, warn, skip_render_check)\u001b[0m\n\u001b[0;32m    439\u001b[0m         warnings\u001b[38;5;241m.\u001b[39mwarn(\n\u001b[0;32m    440\u001b[0m             \u001b[38;5;124mf\u001b[39m\u001b[38;5;124m\"\u001b[39m\u001b[38;5;124mYour action space has dtype \u001b[39m\u001b[38;5;132;01m{\u001b[39;00maction_space\u001b[38;5;241m.\u001b[39mdtype\u001b[38;5;132;01m}\u001b[39;00m\u001b[38;5;124m, we recommend using np.float32 to avoid cast errors.\u001b[39m\u001b[38;5;124m\"\u001b[39m\n\u001b[0;32m    441\u001b[0m         )\n\u001b[0;32m    443\u001b[0m \u001b[38;5;66;03m# ============ Check the returned values ===============\u001b[39;00m\n\u001b[1;32m--> 444\u001b[0m \u001b[43m_check_returned_values\u001b[49m\u001b[43m(\u001b[49m\u001b[43menv\u001b[49m\u001b[43m,\u001b[49m\u001b[43m \u001b[49m\u001b[43mobservation_space\u001b[49m\u001b[43m,\u001b[49m\u001b[43m \u001b[49m\u001b[43maction_space\u001b[49m\u001b[43m)\u001b[49m\n\u001b[0;32m    446\u001b[0m \u001b[38;5;66;03m# ==== Check the render method and the declared render modes ====\u001b[39;00m\n\u001b[0;32m    447\u001b[0m \u001b[38;5;28;01mif\u001b[39;00m \u001b[38;5;129;01mnot\u001b[39;00m skip_render_check:\n",
      "File \u001b[1;32m~\\anaconda3\\lib\\site-packages\\stable_baselines3\\common\\env_checker.py:285\u001b[0m, in \u001b[0;36m_check_returned_values\u001b[1;34m(env, observation_space, action_space)\u001b[0m\n\u001b[0;32m    283\u001b[0m \u001b[38;5;66;03m# Sample a random action\u001b[39;00m\n\u001b[0;32m    284\u001b[0m action \u001b[38;5;241m=\u001b[39m action_space\u001b[38;5;241m.\u001b[39msample()\n\u001b[1;32m--> 285\u001b[0m data \u001b[38;5;241m=\u001b[39m \u001b[43menv\u001b[49m\u001b[38;5;241;43m.\u001b[39;49m\u001b[43mstep\u001b[49m\u001b[43m(\u001b[49m\u001b[43maction\u001b[49m\u001b[43m)\u001b[49m\n\u001b[0;32m    287\u001b[0m \u001b[38;5;28;01massert\u001b[39;00m \u001b[38;5;28mlen\u001b[39m(data) \u001b[38;5;241m==\u001b[39m \u001b[38;5;241m5\u001b[39m, (\n\u001b[0;32m    288\u001b[0m     \u001b[38;5;124m\"\u001b[39m\u001b[38;5;124mThe `step()` method must return five values: \u001b[39m\u001b[38;5;124m\"\u001b[39m\n\u001b[0;32m    289\u001b[0m     \u001b[38;5;124mf\u001b[39m\u001b[38;5;124m\"\u001b[39m\u001b[38;5;124mobs, reward, terminated, truncated, info. Actual: \u001b[39m\u001b[38;5;132;01m{\u001b[39;00m\u001b[38;5;28mlen\u001b[39m(data)\u001b[38;5;132;01m}\u001b[39;00m\u001b[38;5;124m values returned.\u001b[39m\u001b[38;5;124m\"\u001b[39m\n\u001b[0;32m    290\u001b[0m )\n\u001b[0;32m    292\u001b[0m \u001b[38;5;66;03m# Unpack\u001b[39;00m\n",
      "Cell \u001b[1;32mIn[163], line 76\u001b[0m, in \u001b[0;36mCookieRun.step\u001b[1;34m(self, action)\u001b[0m\n\u001b[0;32m     74\u001b[0m     \u001b[38;5;28mself\u001b[39m\u001b[38;5;241m.\u001b[39mpre_health \u001b[38;5;241m=\u001b[39m cnt\n\u001b[0;32m     75\u001b[0m \u001b[38;5;66;03m#Set score_reward\u001b[39;00m\n\u001b[1;32m---> 76\u001b[0m score \u001b[38;5;241m=\u001b[39m \u001b[38;5;28;43mself\u001b[39;49m\u001b[38;5;241;43m.\u001b[39;49m\u001b[43mcaptureCookierunScore\u001b[49m\u001b[43m(\u001b[49m\u001b[38;5;241;43m160\u001b[39;49m\u001b[43m,\u001b[49m\u001b[38;5;241;43m760\u001b[39;49m\u001b[43m,\u001b[49m\u001b[38;5;241;43m350\u001b[39;49m\u001b[43m,\u001b[49m\u001b[38;5;241;43m64\u001b[39;49m\u001b[43m,\u001b[49m\u001b[38;5;241;43m1\u001b[39;49m\u001b[43m)\u001b[49m\n\u001b[0;32m     77\u001b[0m reward_score \u001b[38;5;241m=\u001b[39m (score \u001b[38;5;241m-\u001b[39m \u001b[38;5;28mself\u001b[39m\u001b[38;5;241m.\u001b[39mpre_score)\u001b[38;5;241m/\u001b[39m\u001b[38;5;241m100000\u001b[39m\n\u001b[0;32m     79\u001b[0m reward \u001b[38;5;241m=\u001b[39m reward_life \u001b[38;5;241m+\u001b[39m reward_score\n",
      "Cell \u001b[1;32mIn[163], line 124\u001b[0m, in \u001b[0;36mCookieRun.captureCookierunScore\u001b[1;34m(self, x, y, width, height, monitor_number)\u001b[0m\n\u001b[0;32m    122\u001b[0m     \u001b[38;5;28;01mif\u001b[39;00m(string\u001b[38;5;241m.\u001b[39misdigit()):\n\u001b[0;32m    123\u001b[0m         word \u001b[38;5;241m=\u001b[39m word \u001b[38;5;241m+\u001b[39m string\n\u001b[1;32m--> 124\u001b[0m \u001b[38;5;28;01mreturn\u001b[39;00m \u001b[38;5;28;43mint\u001b[39;49m\u001b[43m(\u001b[49m\u001b[43mword\u001b[49m\u001b[43m)\u001b[49m\n",
      "\u001b[1;31mValueError\u001b[0m: invalid literal for int() with base 10: ''"
     ]
    }
   ],
   "source": [
    "env_checker.check_env(env)"
   ]
  },
  {
   "cell_type": "code",
   "execution_count": 180,
   "metadata": {
    "id": "J5jmFhmtmjbR"
   },
   "outputs": [],
   "source": [
    "class TrainAndLoggingCallback(BaseCallback):\n",
    "    def __init__(self, check_freq, save_path, verbose=1):\n",
    "        super(TrainAndLoggingCallback, self).__init__(verbose)\n",
    "        self.check_freq = check_freq\n",
    "        self.save_path = save_path\n",
    "\n",
    "    def _init_callback(self):\n",
    "        if self.save_path is not None:\n",
    "            os.makedirs(self.save_path, exist_ok=True)\n",
    "\n",
    "    def _on_step(self):\n",
    "        if self.n_calls % self.check_freq == 0:\n",
    "            model_path = os.path.join(self.save_path, 'best_model_{}'.format(self.n_calls))\n",
    "            self.model.save(model_path)\n",
    "            \n",
    "        return True"
   ]
  },
  {
   "cell_type": "code",
   "execution_count": 181,
   "metadata": {
    "id": "SggBkxSgm2vL"
   },
   "outputs": [],
   "source": [
    "CHECKPOINT_DIR = './train/'\n",
    "LOG_DIR = './logs/'"
   ]
  },
  {
   "cell_type": "code",
   "execution_count": 182,
   "metadata": {
    "id": "xxE0Oup-m49_"
   },
   "outputs": [],
   "source": [
    "callback = TrainAndLoggingCallback(check_freq=10000, save_path=CHECKPOINT_DIR)"
   ]
  },
  {
   "cell_type": "markdown",
   "metadata": {
    "id": "DMzMJ6onkA5D"
   },
   "source": [
    "## 3.2 Build () and Train"
   ]
  },
  {
   "cell_type": "code",
   "execution_count": 183,
   "metadata": {
    "id": "WDMCSWDVm9pL"
   },
   "outputs": [],
   "source": [
    "from stable_baselines3 import DQN\n",
    "from stable_baselines3.common.monitor import Monitor\n",
    "from stable_baselines3.common.vec_env import DummyVecEnv, VecFrameStack"
   ]
  },
  {
   "cell_type": "code",
   "execution_count": 193,
   "metadata": {
    "id": "VJJsdxVTm-zB"
   },
   "outputs": [],
   "source": [
    "env = CookieRun()"
   ]
  },
  {
   "cell_type": "code",
   "execution_count": 194,
   "metadata": {
    "id": "H5Hayy63nCug"
   },
   "outputs": [
    {
     "name": "stdout",
     "output_type": "stream",
     "text": [
      "Using cuda device\n",
      "Wrapping the env with a `Monitor` wrapper\n",
      "Wrapping the env in a DummyVecEnv.\n"
     ]
    }
   ],
   "source": [
    "model = DQN('CnnPolicy', env, tensorboard_log=LOG_DIR, verbose=1, buffer_size=120000, learning_starts=5, learning_rate = 0.01)"
   ]
  },
  {
   "cell_type": "code",
   "execution_count": 195,
   "metadata": {
    "id": "4-dvbO8snEFk",
    "scrolled": false
   },
   "outputs": [
    {
     "name": "stdout",
     "output_type": "stream",
     "text": [
      "Logging to ./logs/DQN_22\n"
     ]
    },
    {
     "ename": "KeyboardInterrupt",
     "evalue": "",
     "output_type": "error",
     "traceback": [
      "\u001b[1;31m---------------------------------------------------------------------------\u001b[0m",
      "\u001b[1;31mKeyboardInterrupt\u001b[0m                         Traceback (most recent call last)",
      "Cell \u001b[1;32mIn[195], line 1\u001b[0m\n\u001b[1;32m----> 1\u001b[0m \u001b[43mmodel\u001b[49m\u001b[38;5;241;43m.\u001b[39;49m\u001b[43mlearn\u001b[49m\u001b[43m(\u001b[49m\u001b[43mtotal_timesteps\u001b[49m\u001b[38;5;241;43m=\u001b[39;49m\u001b[38;5;241;43m500000\u001b[39;49m\u001b[43m,\u001b[49m\u001b[43m \u001b[49m\u001b[43mcallback\u001b[49m\u001b[38;5;241;43m=\u001b[39;49m\u001b[43mcallback\u001b[49m\u001b[43m)\u001b[49m\n",
      "File \u001b[1;32m~\\anaconda3\\lib\\site-packages\\stable_baselines3\\dqn\\dqn.py:267\u001b[0m, in \u001b[0;36mDQN.learn\u001b[1;34m(self, total_timesteps, callback, log_interval, tb_log_name, reset_num_timesteps, progress_bar)\u001b[0m\n\u001b[0;32m    258\u001b[0m \u001b[38;5;28;01mdef\u001b[39;00m \u001b[38;5;21mlearn\u001b[39m(\n\u001b[0;32m    259\u001b[0m     \u001b[38;5;28mself\u001b[39m: SelfDQN,\n\u001b[0;32m    260\u001b[0m     total_timesteps: \u001b[38;5;28mint\u001b[39m,\n\u001b[1;32m   (...)\u001b[0m\n\u001b[0;32m    265\u001b[0m     progress_bar: \u001b[38;5;28mbool\u001b[39m \u001b[38;5;241m=\u001b[39m \u001b[38;5;28;01mFalse\u001b[39;00m,\n\u001b[0;32m    266\u001b[0m ) \u001b[38;5;241m-\u001b[39m\u001b[38;5;241m>\u001b[39m SelfDQN:\n\u001b[1;32m--> 267\u001b[0m     \u001b[38;5;28;01mreturn\u001b[39;00m \u001b[38;5;28;43msuper\u001b[39;49m\u001b[43m(\u001b[49m\u001b[43m)\u001b[49m\u001b[38;5;241;43m.\u001b[39;49m\u001b[43mlearn\u001b[49m\u001b[43m(\u001b[49m\n\u001b[0;32m    268\u001b[0m \u001b[43m        \u001b[49m\u001b[43mtotal_timesteps\u001b[49m\u001b[38;5;241;43m=\u001b[39;49m\u001b[43mtotal_timesteps\u001b[49m\u001b[43m,\u001b[49m\n\u001b[0;32m    269\u001b[0m \u001b[43m        \u001b[49m\u001b[43mcallback\u001b[49m\u001b[38;5;241;43m=\u001b[39;49m\u001b[43mcallback\u001b[49m\u001b[43m,\u001b[49m\n\u001b[0;32m    270\u001b[0m \u001b[43m        \u001b[49m\u001b[43mlog_interval\u001b[49m\u001b[38;5;241;43m=\u001b[39;49m\u001b[43mlog_interval\u001b[49m\u001b[43m,\u001b[49m\n\u001b[0;32m    271\u001b[0m \u001b[43m        \u001b[49m\u001b[43mtb_log_name\u001b[49m\u001b[38;5;241;43m=\u001b[39;49m\u001b[43mtb_log_name\u001b[49m\u001b[43m,\u001b[49m\n\u001b[0;32m    272\u001b[0m \u001b[43m        \u001b[49m\u001b[43mreset_num_timesteps\u001b[49m\u001b[38;5;241;43m=\u001b[39;49m\u001b[43mreset_num_timesteps\u001b[49m\u001b[43m,\u001b[49m\n\u001b[0;32m    273\u001b[0m \u001b[43m        \u001b[49m\u001b[43mprogress_bar\u001b[49m\u001b[38;5;241;43m=\u001b[39;49m\u001b[43mprogress_bar\u001b[49m\u001b[43m,\u001b[49m\n\u001b[0;32m    274\u001b[0m \u001b[43m    \u001b[49m\u001b[43m)\u001b[49m\n",
      "File \u001b[1;32m~\\anaconda3\\lib\\site-packages\\stable_baselines3\\common\\off_policy_algorithm.py:312\u001b[0m, in \u001b[0;36mOffPolicyAlgorithm.learn\u001b[1;34m(self, total_timesteps, callback, log_interval, tb_log_name, reset_num_timesteps, progress_bar)\u001b[0m\n\u001b[0;32m    309\u001b[0m callback\u001b[38;5;241m.\u001b[39mon_training_start(\u001b[38;5;28mlocals\u001b[39m(), \u001b[38;5;28mglobals\u001b[39m())\n\u001b[0;32m    311\u001b[0m \u001b[38;5;28;01mwhile\u001b[39;00m \u001b[38;5;28mself\u001b[39m\u001b[38;5;241m.\u001b[39mnum_timesteps \u001b[38;5;241m<\u001b[39m total_timesteps:\n\u001b[1;32m--> 312\u001b[0m     rollout \u001b[38;5;241m=\u001b[39m \u001b[38;5;28;43mself\u001b[39;49m\u001b[38;5;241;43m.\u001b[39;49m\u001b[43mcollect_rollouts\u001b[49m\u001b[43m(\u001b[49m\n\u001b[0;32m    313\u001b[0m \u001b[43m        \u001b[49m\u001b[38;5;28;43mself\u001b[39;49m\u001b[38;5;241;43m.\u001b[39;49m\u001b[43menv\u001b[49m\u001b[43m,\u001b[49m\n\u001b[0;32m    314\u001b[0m \u001b[43m        \u001b[49m\u001b[43mtrain_freq\u001b[49m\u001b[38;5;241;43m=\u001b[39;49m\u001b[38;5;28;43mself\u001b[39;49m\u001b[38;5;241;43m.\u001b[39;49m\u001b[43mtrain_freq\u001b[49m\u001b[43m,\u001b[49m\n\u001b[0;32m    315\u001b[0m \u001b[43m        \u001b[49m\u001b[43maction_noise\u001b[49m\u001b[38;5;241;43m=\u001b[39;49m\u001b[38;5;28;43mself\u001b[39;49m\u001b[38;5;241;43m.\u001b[39;49m\u001b[43maction_noise\u001b[49m\u001b[43m,\u001b[49m\n\u001b[0;32m    316\u001b[0m \u001b[43m        \u001b[49m\u001b[43mcallback\u001b[49m\u001b[38;5;241;43m=\u001b[39;49m\u001b[43mcallback\u001b[49m\u001b[43m,\u001b[49m\n\u001b[0;32m    317\u001b[0m \u001b[43m        \u001b[49m\u001b[43mlearning_starts\u001b[49m\u001b[38;5;241;43m=\u001b[39;49m\u001b[38;5;28;43mself\u001b[39;49m\u001b[38;5;241;43m.\u001b[39;49m\u001b[43mlearning_starts\u001b[49m\u001b[43m,\u001b[49m\n\u001b[0;32m    318\u001b[0m \u001b[43m        \u001b[49m\u001b[43mreplay_buffer\u001b[49m\u001b[38;5;241;43m=\u001b[39;49m\u001b[38;5;28;43mself\u001b[39;49m\u001b[38;5;241;43m.\u001b[39;49m\u001b[43mreplay_buffer\u001b[49m\u001b[43m,\u001b[49m\n\u001b[0;32m    319\u001b[0m \u001b[43m        \u001b[49m\u001b[43mlog_interval\u001b[49m\u001b[38;5;241;43m=\u001b[39;49m\u001b[43mlog_interval\u001b[49m\u001b[43m,\u001b[49m\n\u001b[0;32m    320\u001b[0m \u001b[43m    \u001b[49m\u001b[43m)\u001b[49m\n\u001b[0;32m    322\u001b[0m     \u001b[38;5;28;01mif\u001b[39;00m rollout\u001b[38;5;241m.\u001b[39mcontinue_training \u001b[38;5;129;01mis\u001b[39;00m \u001b[38;5;28;01mFalse\u001b[39;00m:\n\u001b[0;32m    323\u001b[0m         \u001b[38;5;28;01mbreak\u001b[39;00m\n",
      "File \u001b[1;32m~\\anaconda3\\lib\\site-packages\\stable_baselines3\\common\\off_policy_algorithm.py:544\u001b[0m, in \u001b[0;36mOffPolicyAlgorithm.collect_rollouts\u001b[1;34m(self, env, callback, train_freq, replay_buffer, action_noise, learning_starts, log_interval)\u001b[0m\n\u001b[0;32m    541\u001b[0m actions, buffer_actions \u001b[38;5;241m=\u001b[39m \u001b[38;5;28mself\u001b[39m\u001b[38;5;241m.\u001b[39m_sample_action(learning_starts, action_noise, env\u001b[38;5;241m.\u001b[39mnum_envs)\n\u001b[0;32m    543\u001b[0m \u001b[38;5;66;03m# Rescale and perform action\u001b[39;00m\n\u001b[1;32m--> 544\u001b[0m new_obs, rewards, dones, infos \u001b[38;5;241m=\u001b[39m \u001b[43menv\u001b[49m\u001b[38;5;241;43m.\u001b[39;49m\u001b[43mstep\u001b[49m\u001b[43m(\u001b[49m\u001b[43mactions\u001b[49m\u001b[43m)\u001b[49m\n\u001b[0;32m    546\u001b[0m \u001b[38;5;28mself\u001b[39m\u001b[38;5;241m.\u001b[39mnum_timesteps \u001b[38;5;241m+\u001b[39m\u001b[38;5;241m=\u001b[39m env\u001b[38;5;241m.\u001b[39mnum_envs\n\u001b[0;32m    547\u001b[0m num_collected_steps \u001b[38;5;241m+\u001b[39m\u001b[38;5;241m=\u001b[39m \u001b[38;5;241m1\u001b[39m\n",
      "File \u001b[1;32m~\\anaconda3\\lib\\site-packages\\stable_baselines3\\common\\vec_env\\base_vec_env.py:197\u001b[0m, in \u001b[0;36mVecEnv.step\u001b[1;34m(self, actions)\u001b[0m\n\u001b[0;32m    190\u001b[0m \u001b[38;5;250m\u001b[39m\u001b[38;5;124;03m\"\"\"\u001b[39;00m\n\u001b[0;32m    191\u001b[0m \u001b[38;5;124;03mStep the environments with the given action\u001b[39;00m\n\u001b[0;32m    192\u001b[0m \n\u001b[0;32m    193\u001b[0m \u001b[38;5;124;03m:param actions: the action\u001b[39;00m\n\u001b[0;32m    194\u001b[0m \u001b[38;5;124;03m:return: observation, reward, done, information\u001b[39;00m\n\u001b[0;32m    195\u001b[0m \u001b[38;5;124;03m\"\"\"\u001b[39;00m\n\u001b[0;32m    196\u001b[0m \u001b[38;5;28mself\u001b[39m\u001b[38;5;241m.\u001b[39mstep_async(actions)\n\u001b[1;32m--> 197\u001b[0m \u001b[38;5;28;01mreturn\u001b[39;00m \u001b[38;5;28;43mself\u001b[39;49m\u001b[38;5;241;43m.\u001b[39;49m\u001b[43mstep_wait\u001b[49m\u001b[43m(\u001b[49m\u001b[43m)\u001b[49m\n",
      "File \u001b[1;32m~\\anaconda3\\lib\\site-packages\\stable_baselines3\\common\\vec_env\\dummy_vec_env.py:70\u001b[0m, in \u001b[0;36mDummyVecEnv.step_wait\u001b[1;34m(self)\u001b[0m\n\u001b[0;32m     67\u001b[0m     \u001b[38;5;28;01mif\u001b[39;00m \u001b[38;5;28mself\u001b[39m\u001b[38;5;241m.\u001b[39mbuf_dones[env_idx]:\n\u001b[0;32m     68\u001b[0m         \u001b[38;5;66;03m# save final observation where user can get it, then reset\u001b[39;00m\n\u001b[0;32m     69\u001b[0m         \u001b[38;5;28mself\u001b[39m\u001b[38;5;241m.\u001b[39mbuf_infos[env_idx][\u001b[38;5;124m\"\u001b[39m\u001b[38;5;124mterminal_observation\u001b[39m\u001b[38;5;124m\"\u001b[39m] \u001b[38;5;241m=\u001b[39m obs\n\u001b[1;32m---> 70\u001b[0m         obs, \u001b[38;5;28mself\u001b[39m\u001b[38;5;241m.\u001b[39mreset_infos[env_idx] \u001b[38;5;241m=\u001b[39m \u001b[38;5;28;43mself\u001b[39;49m\u001b[38;5;241;43m.\u001b[39;49m\u001b[43menvs\u001b[49m\u001b[43m[\u001b[49m\u001b[43menv_idx\u001b[49m\u001b[43m]\u001b[49m\u001b[38;5;241;43m.\u001b[39;49m\u001b[43mreset\u001b[49m\u001b[43m(\u001b[49m\u001b[43m)\u001b[49m\n\u001b[0;32m     71\u001b[0m     \u001b[38;5;28mself\u001b[39m\u001b[38;5;241m.\u001b[39m_save_obs(env_idx, obs)\n\u001b[0;32m     72\u001b[0m \u001b[38;5;28;01mreturn\u001b[39;00m (\u001b[38;5;28mself\u001b[39m\u001b[38;5;241m.\u001b[39m_obs_from_buf(), np\u001b[38;5;241m.\u001b[39mcopy(\u001b[38;5;28mself\u001b[39m\u001b[38;5;241m.\u001b[39mbuf_rews), np\u001b[38;5;241m.\u001b[39mcopy(\u001b[38;5;28mself\u001b[39m\u001b[38;5;241m.\u001b[39mbuf_dones), deepcopy(\u001b[38;5;28mself\u001b[39m\u001b[38;5;241m.\u001b[39mbuf_infos))\n",
      "File \u001b[1;32m~\\anaconda3\\lib\\site-packages\\stable_baselines3\\common\\monitor.py:83\u001b[0m, in \u001b[0;36mMonitor.reset\u001b[1;34m(self, **kwargs)\u001b[0m\n\u001b[0;32m     81\u001b[0m         \u001b[38;5;28;01mraise\u001b[39;00m \u001b[38;5;167;01mValueError\u001b[39;00m(\u001b[38;5;124mf\u001b[39m\u001b[38;5;124m\"\u001b[39m\u001b[38;5;124mExpected you to pass keyword argument \u001b[39m\u001b[38;5;132;01m{\u001b[39;00mkey\u001b[38;5;132;01m}\u001b[39;00m\u001b[38;5;124m into reset\u001b[39m\u001b[38;5;124m\"\u001b[39m)\n\u001b[0;32m     82\u001b[0m     \u001b[38;5;28mself\u001b[39m\u001b[38;5;241m.\u001b[39mcurrent_reset_info[key] \u001b[38;5;241m=\u001b[39m value\n\u001b[1;32m---> 83\u001b[0m \u001b[38;5;28;01mreturn\u001b[39;00m \u001b[38;5;28mself\u001b[39m\u001b[38;5;241m.\u001b[39menv\u001b[38;5;241m.\u001b[39mreset(\u001b[38;5;241m*\u001b[39m\u001b[38;5;241m*\u001b[39mkwargs)\n",
      "Cell \u001b[1;32mIn[192], line 131\u001b[0m, in \u001b[0;36mCookieRun.reset\u001b[1;34m(self, seed)\u001b[0m\n\u001b[0;32m    130\u001b[0m \u001b[38;5;28;01mdef\u001b[39;00m \u001b[38;5;21mreset\u001b[39m(\u001b[38;5;28mself\u001b[39m, seed\u001b[38;5;241m=\u001b[39m\u001b[38;5;28;01mNone\u001b[39;00m):\n\u001b[1;32m--> 131\u001b[0m   \u001b[43mtime\u001b[49m\u001b[38;5;241;43m.\u001b[39;49m\u001b[43msleep\u001b[49m\u001b[43m(\u001b[49m\u001b[38;5;241;43m15\u001b[39;49m\u001b[43m)\u001b[49m\n\u001b[0;32m    132\u001b[0m   pyautogui\u001b[38;5;241m.\u001b[39mclick(x\u001b[38;5;241m=\u001b[39m\u001b[38;5;241m908\u001b[39m, y\u001b[38;5;241m=\u001b[39m\u001b[38;5;241m936\u001b[39m)\n\u001b[0;32m    133\u001b[0m   time\u001b[38;5;241m.\u001b[39msleep(\u001b[38;5;241m1\u001b[39m)\n",
      "\u001b[1;31mKeyboardInterrupt\u001b[0m: "
     ]
    }
   ],
   "source": [
    "model.learn(total_timesteps=500000, callback=callback)"
   ]
  },
  {
   "cell_type": "markdown",
   "metadata": {
    "id": "RLGcWT8Ej1Na"
   },
   "source": [
    "# 4. Test out Model"
   ]
  },
  {
   "cell_type": "code",
   "execution_count": 23,
   "metadata": {
    "id": "yPxOTQc56qNF"
   },
   "outputs": [
    {
     "data": {
      "text/plain": [
       "<stable_baselines3.dqn.dqn.DQN at 0x1d2b5653af0>"
      ]
     },
     "execution_count": 23,
     "metadata": {},
     "output_type": "execute_result"
    }
   ],
   "source": [
    "model.load('train/best_model_330000') "
   ]
  },
  {
   "cell_type": "code",
   "execution_count": 24,
   "metadata": {},
   "outputs": [
    {
     "name": "stdout",
     "output_type": "stream",
     "text": [
      "Total Reward for episode 0 is 8770\n",
      "Total Reward for episode 1 is 7630\n",
      "Total Reward for episode 2 is 9900\n"
     ]
    },
    {
     "ename": "KeyboardInterrupt",
     "evalue": "",
     "output_type": "error",
     "traceback": [
      "\u001b[1;31m---------------------------------------------------------------------------\u001b[0m",
      "\u001b[1;31mKeyboardInterrupt\u001b[0m                         Traceback (most recent call last)",
      "Cell \u001b[1;32mIn[24], line 2\u001b[0m\n\u001b[0;32m      1\u001b[0m \u001b[38;5;28;01mfor\u001b[39;00m episode \u001b[38;5;129;01min\u001b[39;00m \u001b[38;5;28mrange\u001b[39m(\u001b[38;5;241m5\u001b[39m): \n\u001b[1;32m----> 2\u001b[0m     obs \u001b[38;5;241m=\u001b[39m \u001b[43menv\u001b[49m\u001b[38;5;241;43m.\u001b[39;49m\u001b[43mreset\u001b[49m\u001b[43m(\u001b[49m\u001b[43m)\u001b[49m[\u001b[38;5;241m0\u001b[39m]\n\u001b[0;32m      3\u001b[0m     total_reward \u001b[38;5;241m=\u001b[39m \u001b[38;5;241m0\u001b[39m\n\u001b[0;32m      4\u001b[0m     done \u001b[38;5;241m=\u001b[39m \u001b[38;5;28;01mFalse\u001b[39;00m\n",
      "Cell \u001b[1;32mIn[8], line 95\u001b[0m, in \u001b[0;36mCookieRun.reset\u001b[1;34m(self, seed)\u001b[0m\n\u001b[0;32m     94\u001b[0m \u001b[38;5;28;01mdef\u001b[39;00m \u001b[38;5;21mreset\u001b[39m(\u001b[38;5;28mself\u001b[39m, seed\u001b[38;5;241m=\u001b[39m\u001b[38;5;28;01mNone\u001b[39;00m):\n\u001b[1;32m---> 95\u001b[0m   \u001b[43mtime\u001b[49m\u001b[38;5;241;43m.\u001b[39;49m\u001b[43msleep\u001b[49m\u001b[43m(\u001b[49m\u001b[38;5;241;43m15\u001b[39;49m\u001b[43m)\u001b[49m\n\u001b[0;32m     96\u001b[0m   pyautogui\u001b[38;5;241m.\u001b[39mclick(x\u001b[38;5;241m=\u001b[39m\u001b[38;5;241m908\u001b[39m, y\u001b[38;5;241m=\u001b[39m\u001b[38;5;241m936\u001b[39m)\n\u001b[0;32m     97\u001b[0m   time\u001b[38;5;241m.\u001b[39msleep(\u001b[38;5;241m1\u001b[39m)\n",
      "\u001b[1;31mKeyboardInterrupt\u001b[0m: "
     ]
    }
   ],
   "source": [
    "for episode in range(5): \n",
    "    obs = env.reset()[0]\n",
    "    total_reward = 0\n",
    "    done = False\n",
    "    while not done: \n",
    "        action, state = model.predict(obs)\n",
    "        obs, reward, done, _, info = env.step(int(action))\n",
    "        total_reward += reward\n",
    "    print('Total Reward for episode {} is {}'.format(episode, total_reward))"
   ]
  },
  {
   "cell_type": "code",
   "execution_count": null,
   "metadata": {},
   "outputs": [],
   "source": []
  }
 ],
 "metadata": {
  "accelerator": "GPU",
  "colab": {
   "gpuType": "T4",
   "provenance": []
  },
  "kernelspec": {
   "display_name": "Python 3 (ipykernel)",
   "language": "python",
   "name": "python3"
  },
  "language_info": {
   "codemirror_mode": {
    "name": "ipython",
    "version": 3
   },
   "file_extension": ".py",
   "mimetype": "text/x-python",
   "name": "python",
   "nbconvert_exporter": "python",
   "pygments_lexer": "ipython3",
   "version": "3.10.9"
  }
 },
 "nbformat": 4,
 "nbformat_minor": 1
}
